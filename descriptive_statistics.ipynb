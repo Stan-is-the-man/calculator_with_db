{
 "cells": [
  {
   "cell_type": "code",
   "execution_count": 125,
   "metadata": {
    "collapsed": true
   },
   "outputs": [],
   "source": [
    "import pandas as pd"
   ]
  },
  {
   "cell_type": "code",
   "execution_count": 126,
   "outputs": [
    {
     "data": {
      "text/plain": "    id action_type        results  execution_time\n0    1           *   6.000000e+00               0\n1    2           *   2.804047e+13               0\n2    3           *   4.819581e+17               0\n3    4           *   6.000000e+00               0\n4    5           *   4.691400e+04               0\n5    6           +   2.281000e+03               0\n6    7           !   1.200000e+02               0\n7    8           !   4.032000e+04               0\n8    9           !  9.875044e+202               0\n9   10           !  9.875044e+202               0\n10  11           !   1.551121e+25               0\n11  12           !   1.551121e+25               0\n12  13           !   1.551121e+25               0\n13  14           ^   2.500000e+01               0\n14  15           /   5.000000e+00               0\n15  16           !   4.032000e+04               0\n16  17           !   1.200000e+02               0\n17  18           !   1.200000e+02               0\n18  19           ^   1.250000e+02               0\n19  25           +   9.000000e+01               0\n20  26           !  9.332622e+155               0\n21  27           -   1.203000e+03               0\n22  28           %   5.000000e+00               0\n23  29           +   2.257100e+05               0\n24  30           /   1.294500e+03               0",
      "text/html": "<div>\n<style scoped>\n    .dataframe tbody tr th:only-of-type {\n        vertical-align: middle;\n    }\n\n    .dataframe tbody tr th {\n        vertical-align: top;\n    }\n\n    .dataframe thead th {\n        text-align: right;\n    }\n</style>\n<table border=\"1\" class=\"dataframe\">\n  <thead>\n    <tr style=\"text-align: right;\">\n      <th></th>\n      <th>id</th>\n      <th>action_type</th>\n      <th>results</th>\n      <th>execution_time</th>\n    </tr>\n  </thead>\n  <tbody>\n    <tr>\n      <th>0</th>\n      <td>1</td>\n      <td>*</td>\n      <td>6.000000e+00</td>\n      <td>0</td>\n    </tr>\n    <tr>\n      <th>1</th>\n      <td>2</td>\n      <td>*</td>\n      <td>2.804047e+13</td>\n      <td>0</td>\n    </tr>\n    <tr>\n      <th>2</th>\n      <td>3</td>\n      <td>*</td>\n      <td>4.819581e+17</td>\n      <td>0</td>\n    </tr>\n    <tr>\n      <th>3</th>\n      <td>4</td>\n      <td>*</td>\n      <td>6.000000e+00</td>\n      <td>0</td>\n    </tr>\n    <tr>\n      <th>4</th>\n      <td>5</td>\n      <td>*</td>\n      <td>4.691400e+04</td>\n      <td>0</td>\n    </tr>\n    <tr>\n      <th>5</th>\n      <td>6</td>\n      <td>+</td>\n      <td>2.281000e+03</td>\n      <td>0</td>\n    </tr>\n    <tr>\n      <th>6</th>\n      <td>7</td>\n      <td>!</td>\n      <td>1.200000e+02</td>\n      <td>0</td>\n    </tr>\n    <tr>\n      <th>7</th>\n      <td>8</td>\n      <td>!</td>\n      <td>4.032000e+04</td>\n      <td>0</td>\n    </tr>\n    <tr>\n      <th>8</th>\n      <td>9</td>\n      <td>!</td>\n      <td>9.875044e+202</td>\n      <td>0</td>\n    </tr>\n    <tr>\n      <th>9</th>\n      <td>10</td>\n      <td>!</td>\n      <td>9.875044e+202</td>\n      <td>0</td>\n    </tr>\n    <tr>\n      <th>10</th>\n      <td>11</td>\n      <td>!</td>\n      <td>1.551121e+25</td>\n      <td>0</td>\n    </tr>\n    <tr>\n      <th>11</th>\n      <td>12</td>\n      <td>!</td>\n      <td>1.551121e+25</td>\n      <td>0</td>\n    </tr>\n    <tr>\n      <th>12</th>\n      <td>13</td>\n      <td>!</td>\n      <td>1.551121e+25</td>\n      <td>0</td>\n    </tr>\n    <tr>\n      <th>13</th>\n      <td>14</td>\n      <td>^</td>\n      <td>2.500000e+01</td>\n      <td>0</td>\n    </tr>\n    <tr>\n      <th>14</th>\n      <td>15</td>\n      <td>/</td>\n      <td>5.000000e+00</td>\n      <td>0</td>\n    </tr>\n    <tr>\n      <th>15</th>\n      <td>16</td>\n      <td>!</td>\n      <td>4.032000e+04</td>\n      <td>0</td>\n    </tr>\n    <tr>\n      <th>16</th>\n      <td>17</td>\n      <td>!</td>\n      <td>1.200000e+02</td>\n      <td>0</td>\n    </tr>\n    <tr>\n      <th>17</th>\n      <td>18</td>\n      <td>!</td>\n      <td>1.200000e+02</td>\n      <td>0</td>\n    </tr>\n    <tr>\n      <th>18</th>\n      <td>19</td>\n      <td>^</td>\n      <td>1.250000e+02</td>\n      <td>0</td>\n    </tr>\n    <tr>\n      <th>19</th>\n      <td>25</td>\n      <td>+</td>\n      <td>9.000000e+01</td>\n      <td>0</td>\n    </tr>\n    <tr>\n      <th>20</th>\n      <td>26</td>\n      <td>!</td>\n      <td>9.332622e+155</td>\n      <td>0</td>\n    </tr>\n    <tr>\n      <th>21</th>\n      <td>27</td>\n      <td>-</td>\n      <td>1.203000e+03</td>\n      <td>0</td>\n    </tr>\n    <tr>\n      <th>22</th>\n      <td>28</td>\n      <td>%</td>\n      <td>5.000000e+00</td>\n      <td>0</td>\n    </tr>\n    <tr>\n      <th>23</th>\n      <td>29</td>\n      <td>+</td>\n      <td>2.257100e+05</td>\n      <td>0</td>\n    </tr>\n    <tr>\n      <th>24</th>\n      <td>30</td>\n      <td>/</td>\n      <td>1.294500e+03</td>\n      <td>0</td>\n    </tr>\n  </tbody>\n</table>\n</div>"
     },
     "execution_count": 126,
     "metadata": {},
     "output_type": "execute_result"
    }
   ],
   "source": [
    "df_calculations = pd.read_csv('calculator_statistics.csv')\n",
    "df_calculations"
   ],
   "metadata": {
    "collapsed": false
   }
  },
  {
   "cell_type": "code",
   "execution_count": 127,
   "outputs": [
    {
     "data": {
      "text/plain": "action_type\n+    3\nName: count, dtype: int64"
     },
     "execution_count": 127,
     "metadata": {},
     "output_type": "execute_result"
    }
   ],
   "source": [
    "# Total number of times the calculator performed addition operation\n",
    "condition = df_calculations['action_type'] == '+'\n",
    "df_calculations[condition].value_counts('action_type')"
   ],
   "metadata": {
    "collapsed": false
   }
  },
  {
   "cell_type": "code",
   "execution_count": 128,
   "outputs": [
    {
     "data": {
      "text/plain": "action_type\n-    1\nName: count, dtype: int64"
     },
     "execution_count": 128,
     "metadata": {},
     "output_type": "execute_result"
    }
   ],
   "source": [
    "# Total number of times the calculator performed subtraction operation\n",
    "condition = df_calculations['action_type'] == '-'\n",
    "df_calculations[condition].value_counts('action_type')"
   ],
   "metadata": {
    "collapsed": false
   }
  },
  {
   "cell_type": "code",
   "execution_count": 129,
   "outputs": [
    {
     "data": {
      "text/plain": "action_type\n!    11\nName: count, dtype: int64"
     },
     "execution_count": 129,
     "metadata": {},
     "output_type": "execute_result"
    }
   ],
   "source": [
    "# Total number of times the calculator performed n-factorial operation\n",
    "condition = df_calculations['action_type'] == '!'\n",
    "df_calculations[condition].value_counts('action_type')"
   ],
   "metadata": {
    "collapsed": false
   }
  },
  {
   "cell_type": "code",
   "execution_count": 129,
   "outputs": [],
   "source": [],
   "metadata": {
    "collapsed": false
   }
  },
  {
   "cell_type": "code",
   "execution_count": 130,
   "outputs": [
    {
     "data": {
      "text/plain": "action_type\n!    11\n*     5\n+     3\n^     2\n/     2\n-     1\n%     1\nName: count, dtype: int64"
     },
     "execution_count": 130,
     "metadata": {},
     "output_type": "execute_result"
    }
   ],
   "source": [
    "# Count of all operations\n",
    "df_calculations['action_type'].value_counts()"
   ],
   "metadata": {
    "collapsed": false
   }
  },
  {
   "cell_type": "code",
   "execution_count": 131,
   "outputs": [
    {
     "data": {
      "text/plain": "3.5714285714285716"
     },
     "execution_count": 131,
     "metadata": {},
     "output_type": "execute_result"
    }
   ],
   "source": [
    "# Average number of times calculator performed all operations\n",
    "df_calculations['action_type'].value_counts().mean()"
   ],
   "metadata": {
    "collapsed": false
   }
  },
  {
   "cell_type": "code",
   "execution_count": 132,
   "outputs": [],
   "source": [
    "# Calculating average number of times calculator performed elementary operations\n",
    "condition_1 = df_calculations['action_type'] == '+'\n",
    "condition_2 = df_calculations['action_type'] == '-'\n",
    "condition_3 = df_calculations['action_type'] == '*'\n",
    "condition_4 = df_calculations['action_type'] == '/'"
   ],
   "metadata": {
    "collapsed": false
   }
  },
  {
   "cell_type": "code",
   "execution_count": 133,
   "outputs": [
    {
     "data": {
      "text/plain": "action_type\n*    5\n+    3\n/    2\n-    1\nName: count, dtype: int64"
     },
     "execution_count": 133,
     "metadata": {},
     "output_type": "execute_result"
    }
   ],
   "source": [
    "count_of_all_4_conditions = df_calculations[condition_1 | condition_2 | condition_3 | condition_4].value_counts('action_type')\n",
    "\n",
    "count_of_all_4_conditions"
   ],
   "metadata": {
    "collapsed": false
   }
  },
  {
   "cell_type": "code",
   "execution_count": 134,
   "outputs": [
    {
     "data": {
      "text/plain": "2.75"
     },
     "execution_count": 134,
     "metadata": {},
     "output_type": "execute_result"
    }
   ],
   "source": [
    "# Average number of times calculator performed elementary operations\n",
    "count_of_all_4_conditions.mean()"
   ],
   "metadata": {
    "collapsed": false
   }
  },
  {
   "cell_type": "code",
   "execution_count": 134,
   "outputs": [],
   "source": [],
   "metadata": {
    "collapsed": false
   }
  }
 ],
 "metadata": {
  "kernelspec": {
   "display_name": "Python 3",
   "language": "python",
   "name": "python3"
  },
  "language_info": {
   "codemirror_mode": {
    "name": "ipython",
    "version": 2
   },
   "file_extension": ".py",
   "mimetype": "text/x-python",
   "name": "python",
   "nbconvert_exporter": "python",
   "pygments_lexer": "ipython2",
   "version": "2.7.6"
  }
 },
 "nbformat": 4,
 "nbformat_minor": 0
}
